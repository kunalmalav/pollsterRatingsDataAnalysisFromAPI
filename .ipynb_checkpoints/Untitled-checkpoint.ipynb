{
 "cells": [
  {
   "cell_type": "markdown",
   "id": "79a8c0a7",
   "metadata": {},
   "source": [
    "# Analysis of pollsters rating by Five-Thirty-Eight\n",
    "## Dr. Tirthajyoti Sarkar, Fremont, CA, June 2020"
   ]
  },
  {
   "cell_type": "markdown",
   "id": "65b607fd",
   "metadata": {},
   "source": [
    "Five-Thirty-Eight especially prides itself on their unique strength of assigning a rating to every pollster, whose polling data they assimilate in their predictive models. They proclaim to do this based on the historical accuracy and methodology of each firm’s polls.\n",
    "\n",
    "They also publish the curated dataset on this ranking here: https://github.com/fivethirtyeight/data/tree/master/pollster-ratings\n",
    "\n",
    "Details on this dataset can be found here: https://projects.fivethirtyeight.com/pollster-ratings/"
   ]
  },
  {
   "cell_type": "markdown",
   "id": "46b9154d",
   "metadata": {},
   "source": [
    "##### Import libraries"
   ]
  },
  {
   "cell_type": "code",
   "execution_count": 2,
   "id": "c5b8d605",
   "metadata": {},
   "outputs": [],
   "source": [
    "import pandas as pd\n",
    "import numpy as np\n",
    "import matplotlib.pyplot as plt\n",
    "import seaborn as sns\n",
    "from scipy import stats\n",
    "from scipy.optimize import curve_fit"
   ]
  },
  {
   "cell_type": "markdown",
   "id": "76d1c959",
   "metadata": {},
   "source": [
    "# Read in the dataset directly from the URL"
   ]
  },
  {
   "cell_type": "code",
   "execution_count": 3,
   "id": "62c58348",
   "metadata": {},
   "outputs": [],
   "source": [
    "url = \"https://raw.githubusercontent.com/fivethirtyeight/data/master/pollster-ratings/pollster-ratings.csv\""
   ]
  },
  {
   "cell_type": "code",
   "execution_count": 4,
   "id": "09755092",
   "metadata": {},
   "outputs": [],
   "source": [
    "try:\n",
    "    df = pd.read_csv(url)\n",
    "except:\n",
    "    print(\"Could not retrieve the data!\")"
   ]
  },
  {
   "cell_type": "markdown",
   "id": "76b2d7d4",
   "metadata": {},
   "source": [
    "##### Show column names"
   ]
  },
  {
   "cell_type": "code",
   "execution_count": 5,
   "id": "0652322b",
   "metadata": {},
   "outputs": [
    {
     "name": "stdout",
     "output_type": "stream",
     "text": [
      "Rank, Pollster, Pollster Rating ID, Polls Analyzed, AAPOR/Roper, Banned by 538, Predictive Plus-Minus, 538 Grade, Mean-Reverted Bias, Races Called Correctly, Misses Outside MOE, Simple Average Error, Simple Expected Error, Simple Plus-Minus, Advanced Plus-Minus, Mean-Reverted Advanced Plus-Minus, # of Polls for Bias Analysis, Bias, House Effect, Average Distance from Polling Average (ADPA), Herding Penalty, "
     ]
    }
   ],
   "source": [
    "for c in df.columns:\n",
    "    print(c,end=', ')"
   ]
  },
  {
   "cell_type": "markdown",
   "id": "70af74bd",
   "metadata": {},
   "source": [
    "##### Dataset info"
   ]
  },
  {
   "cell_type": "code",
   "execution_count": 6,
   "id": "61709279",
   "metadata": {},
   "outputs": [
    {
     "name": "stdout",
     "output_type": "stream",
     "text": [
      "<class 'pandas.core.frame.DataFrame'>\n",
      "RangeIndex: 517 entries, 0 to 516\n",
      "Data columns (total 21 columns):\n",
      " #   Column                                        Non-Null Count  Dtype  \n",
      "---  ------                                        --------------  -----  \n",
      " 0   Rank                                          517 non-null    int64  \n",
      " 1   Pollster                                      517 non-null    object \n",
      " 2   Pollster Rating ID                            517 non-null    int64  \n",
      " 3   Polls Analyzed                                517 non-null    int64  \n",
      " 4   AAPOR/Roper                                   517 non-null    object \n",
      " 5   Banned by 538                                 517 non-null    object \n",
      " 6   Predictive Plus-Minus                         517 non-null    float64\n",
      " 7   538 Grade                                     517 non-null    object \n",
      " 8   Mean-Reverted Bias                            473 non-null    float64\n",
      " 9   Races Called Correctly                        517 non-null    float64\n",
      " 10  Misses Outside MOE                            517 non-null    float64\n",
      " 11  Simple Average Error                          517 non-null    float64\n",
      " 12  Simple Expected Error                         517 non-null    float64\n",
      " 13  Simple Plus-Minus                             517 non-null    float64\n",
      " 14  Advanced Plus-Minus                           517 non-null    float64\n",
      " 15  Mean-Reverted Advanced Plus-Minus             517 non-null    float64\n",
      " 16  # of Polls for Bias Analysis                  517 non-null    int64  \n",
      " 17  Bias                                          473 non-null    float64\n",
      " 18  House Effect                                  455 non-null    float64\n",
      " 19  Average Distance from Polling Average (ADPA)  409 non-null    float64\n",
      " 20  Herding Penalty                               517 non-null    float64\n",
      "dtypes: float64(13), int64(4), object(4)\n",
      "memory usage: 84.9+ KB\n"
     ]
    }
   ],
   "source": [
    "df.info()"
   ]
  },
  {
   "cell_type": "markdown",
   "id": "4f0e0834",
   "metadata": {},
   "source": [
    "##### Rename a column to remove extra spaces"
   ]
  },
  {
   "cell_type": "code",
   "execution_count": 7,
   "id": "656de611",
   "metadata": {},
   "outputs": [],
   "source": [
    "df.rename(columns={'Predictive    Plus-Minus':'Predictive Plus-Minus'},inplace=True)"
   ]
  },
  {
   "cell_type": "markdown",
   "id": "40fde74a",
   "metadata": {},
   "source": [
    "##### Convert Races Called Correctly to float from string\n"
   ]
  },
  {
   "cell_type": "code",
   "execution_count": 8,
   "id": "2fd4f752",
   "metadata": {},
   "outputs": [
    {
     "data": {
      "text/plain": [
       "0    0.747368\n",
       "1    0.811321\n",
       "2    0.886364\n",
       "Name: Races Called Correctly, dtype: float64"
      ]
     },
     "execution_count": 8,
     "metadata": {},
     "output_type": "execute_result"
    }
   ],
   "source": [
    "df['Races Called Correctly'][:3]"
   ]
  },
  {
   "cell_type": "code",
   "execution_count": 11,
   "id": "4027b4f1",
   "metadata": {},
   "outputs": [],
   "source": [
    "def percent_to_float(x):\n",
    "    \"\"\"\n",
    "    Converts percentage to float\n",
    "    \"\"\"\n",
    "    return float(x[:-1])/100"
   ]
  },
  {
   "cell_type": "code",
   "execution_count": 10,
   "id": "9b760258",
   "metadata": {},
   "outputs": [
    {
     "ename": "TypeError",
     "evalue": "'float' object is not subscriptable",
     "output_type": "error",
     "traceback": [
      "\u001b[0;31m---------------------------------------------------------------------------\u001b[0m",
      "\u001b[0;31mTypeError\u001b[0m                                 Traceback (most recent call last)",
      "Cell \u001b[0;32mIn[10], line 1\u001b[0m\n\u001b[0;32m----> 1\u001b[0m df[\u001b[38;5;124m'\u001b[39m\u001b[38;5;124mRaces Called Correctly\u001b[39m\u001b[38;5;124m'\u001b[39m]\u001b[38;5;241m=\u001b[39mdf[\u001b[38;5;124m'\u001b[39m\u001b[38;5;124mRaces Called Correctly\u001b[39m\u001b[38;5;124m'\u001b[39m]\u001b[38;5;241m.\u001b[39mapply(percent_to_float)\n",
      "File \u001b[0;32m~/anaconda3/lib/python3.11/site-packages/pandas/core/series.py:4771\u001b[0m, in \u001b[0;36mSeries.apply\u001b[0;34m(self, func, convert_dtype, args, **kwargs)\u001b[0m\n\u001b[1;32m   4661\u001b[0m \u001b[38;5;28;01mdef\u001b[39;00m \u001b[38;5;21mapply\u001b[39m(\n\u001b[1;32m   4662\u001b[0m     \u001b[38;5;28mself\u001b[39m,\n\u001b[1;32m   4663\u001b[0m     func: AggFuncType,\n\u001b[0;32m   (...)\u001b[0m\n\u001b[1;32m   4666\u001b[0m     \u001b[38;5;241m*\u001b[39m\u001b[38;5;241m*\u001b[39mkwargs,\n\u001b[1;32m   4667\u001b[0m ) \u001b[38;5;241m-\u001b[39m\u001b[38;5;241m>\u001b[39m DataFrame \u001b[38;5;241m|\u001b[39m Series:\n\u001b[1;32m   4668\u001b[0m \u001b[38;5;250m    \u001b[39m\u001b[38;5;124;03m\"\"\"\u001b[39;00m\n\u001b[1;32m   4669\u001b[0m \u001b[38;5;124;03m    Invoke function on values of Series.\u001b[39;00m\n\u001b[1;32m   4670\u001b[0m \n\u001b[0;32m   (...)\u001b[0m\n\u001b[1;32m   4769\u001b[0m \u001b[38;5;124;03m    dtype: float64\u001b[39;00m\n\u001b[1;32m   4770\u001b[0m \u001b[38;5;124;03m    \"\"\"\u001b[39;00m\n\u001b[0;32m-> 4771\u001b[0m     \u001b[38;5;28;01mreturn\u001b[39;00m SeriesApply(\u001b[38;5;28mself\u001b[39m, func, convert_dtype, args, kwargs)\u001b[38;5;241m.\u001b[39mapply()\n",
      "File \u001b[0;32m~/anaconda3/lib/python3.11/site-packages/pandas/core/apply.py:1123\u001b[0m, in \u001b[0;36mSeriesApply.apply\u001b[0;34m(self)\u001b[0m\n\u001b[1;32m   1120\u001b[0m     \u001b[38;5;28;01mreturn\u001b[39;00m \u001b[38;5;28mself\u001b[39m\u001b[38;5;241m.\u001b[39mapply_str()\n\u001b[1;32m   1122\u001b[0m \u001b[38;5;66;03m# self.f is Callable\u001b[39;00m\n\u001b[0;32m-> 1123\u001b[0m \u001b[38;5;28;01mreturn\u001b[39;00m \u001b[38;5;28mself\u001b[39m\u001b[38;5;241m.\u001b[39mapply_standard()\n",
      "File \u001b[0;32m~/anaconda3/lib/python3.11/site-packages/pandas/core/apply.py:1174\u001b[0m, in \u001b[0;36mSeriesApply.apply_standard\u001b[0;34m(self)\u001b[0m\n\u001b[1;32m   1172\u001b[0m     \u001b[38;5;28;01melse\u001b[39;00m:\n\u001b[1;32m   1173\u001b[0m         values \u001b[38;5;241m=\u001b[39m obj\u001b[38;5;241m.\u001b[39mastype(\u001b[38;5;28mobject\u001b[39m)\u001b[38;5;241m.\u001b[39m_values\n\u001b[0;32m-> 1174\u001b[0m         mapped \u001b[38;5;241m=\u001b[39m lib\u001b[38;5;241m.\u001b[39mmap_infer(\n\u001b[1;32m   1175\u001b[0m             values,\n\u001b[1;32m   1176\u001b[0m             f,\n\u001b[1;32m   1177\u001b[0m             convert\u001b[38;5;241m=\u001b[39m\u001b[38;5;28mself\u001b[39m\u001b[38;5;241m.\u001b[39mconvert_dtype,\n\u001b[1;32m   1178\u001b[0m         )\n\u001b[1;32m   1180\u001b[0m \u001b[38;5;28;01mif\u001b[39;00m \u001b[38;5;28mlen\u001b[39m(mapped) \u001b[38;5;129;01mand\u001b[39;00m \u001b[38;5;28misinstance\u001b[39m(mapped[\u001b[38;5;241m0\u001b[39m], ABCSeries):\n\u001b[1;32m   1181\u001b[0m     \u001b[38;5;66;03m# GH#43986 Need to do list(mapped) in order to get treated as nested\u001b[39;00m\n\u001b[1;32m   1182\u001b[0m     \u001b[38;5;66;03m#  See also GH#25959 regarding EA support\u001b[39;00m\n\u001b[1;32m   1183\u001b[0m     \u001b[38;5;28;01mreturn\u001b[39;00m obj\u001b[38;5;241m.\u001b[39m_constructor_expanddim(\u001b[38;5;28mlist\u001b[39m(mapped), index\u001b[38;5;241m=\u001b[39mobj\u001b[38;5;241m.\u001b[39mindex)\n",
      "File \u001b[0;32m~/anaconda3/lib/python3.11/site-packages/pandas/_libs/lib.pyx:2924\u001b[0m, in \u001b[0;36mpandas._libs.lib.map_infer\u001b[0;34m()\u001b[0m\n",
      "Cell \u001b[0;32mIn[9], line 5\u001b[0m, in \u001b[0;36mpercent_to_float\u001b[0;34m(x)\u001b[0m\n\u001b[1;32m      1\u001b[0m \u001b[38;5;28;01mdef\u001b[39;00m \u001b[38;5;21mpercent_to_float\u001b[39m(x):\n\u001b[1;32m      2\u001b[0m \u001b[38;5;250m    \u001b[39m\u001b[38;5;124;03m\"\"\"\u001b[39;00m\n\u001b[1;32m      3\u001b[0m \u001b[38;5;124;03m    Converts percentage to float\u001b[39;00m\n\u001b[1;32m      4\u001b[0m \u001b[38;5;124;03m    \"\"\"\u001b[39;00m\n\u001b[0;32m----> 5\u001b[0m     \u001b[38;5;28;01mreturn\u001b[39;00m \u001b[38;5;28mfloat\u001b[39m(x[:\u001b[38;5;241m-\u001b[39m\u001b[38;5;241m1\u001b[39m])\u001b[38;5;241m/\u001b[39m\u001b[38;5;241m100\u001b[39m\n",
      "\u001b[0;31mTypeError\u001b[0m: 'float' object is not subscriptable"
     ]
    }
   ],
   "source": [
    "df['Races Called Correctly']=df['Races Called Correctly'].apply(percent_to_float)"
   ]
  },
  {
   "cell_type": "code",
   "execution_count": null,
   "id": "9d20d894",
   "metadata": {},
   "outputs": [],
   "source": []
  },
  {
   "cell_type": "code",
   "execution_count": null,
   "id": "22746fcf",
   "metadata": {},
   "outputs": [],
   "source": [
    "df['Races Called Correctly'][:3]"
   ]
  },
  {
   "cell_type": "markdown",
   "id": "3445e802",
   "metadata": {},
   "source": [
    "##### Extract partisan bias from the Bias column"
   ]
  },
  {
   "cell_type": "code",
   "execution_count": null,
   "id": "ec5cfa8f",
   "metadata": {},
   "outputs": [],
   "source": [
    "def bias_party_id(x):\n",
    "    \"\"\"\n",
    "    Returns a string indicating partisan bias\n",
    "    \"\"\"\n",
    "    if x is np.nan: return \"No data\"\n",
    "    x = str(x)\n",
    "    if x[0]=='D': return \"Democratic\"\n",
    "    else: return 'Republican'"
   ]
  },
  {
   "cell_type": "code",
   "execution_count": null,
   "id": "0395b990",
   "metadata": {},
   "outputs": [],
   "source": [
    "def bias_party_degree(x):\n",
    "    \"\"\"\n",
    "    Returns a string indicating partisan bias\n",
    "    \"\"\"\n",
    "    if x is np.nan: return np.nan\n",
    "    x = str(x)\n",
    "    return float(x[3:])"
   ]
  },
  {
   "cell_type": "code",
   "execution_count": null,
   "id": "d3c14078",
   "metadata": {},
   "outputs": [],
   "source": [
    "df['Partisan Bias']=df['Bias'].apply(bias_party_id)"
   ]
  },
  {
   "cell_type": "code",
   "execution_count": null,
   "id": "78fd027b",
   "metadata": {},
   "outputs": [],
   "source": [
    "df['Partisan Bias Degree']=df['Bias'].apply(bias_party_degree)"
   ]
  },
  {
   "cell_type": "code",
   "execution_count": null,
   "id": "ebe22d6e",
   "metadata": {},
   "outputs": [],
   "source": [
    "df[['Pollster','Bias','Partisan Bias','Partisan Bias Degree']].sample(5)"
   ]
  },
  {
   "cell_type": "markdown",
   "id": "e47996eb",
   "metadata": {},
   "source": [
    "##### Examine and quantize the 538 Grade column"
   ]
  },
  {
   "cell_type": "code",
   "execution_count": null,
   "id": "2b5c4b23",
   "metadata": {},
   "outputs": [],
   "source": [
    "df['538 Grade'].unique()"
   ]
  },
  {
   "cell_type": "code",
   "execution_count": null,
   "id": "c49b65d3",
   "metadata": {},
   "outputs": [],
   "source": [
    "plt.figure(figsize=(12,4))\n",
    "plt.title(\"Pollster grade counts\",fontsize=18)\n",
    "plt.bar(x=df['538 Grade'].unique(),\n",
    "        height=df['538 Grade'].value_counts(),\n",
    "       color='red',alpha=0.6,edgecolor='k',linewidth=2.5)\n",
    "plt.xticks(fontsize=15)\n",
    "plt.yticks(fontsize=15)\n",
    "plt.grid(True)\n",
    "plt.show()"
   ]
  },
  {
   "cell_type": "code",
   "execution_count": null,
   "id": "cc46f9ce",
   "metadata": {},
   "outputs": [],
   "source": [
    "def grade_numeric(x):\n",
    "    \"\"\"\n",
    "    Quantizes the letter grades\n",
    "    \"\"\"\n",
    "    if x[0]=='A': return 4\n",
    "    if x[0]=='B': return 3\n",
    "    if x[0]=='C': return 2\n",
    "    if x[0]=='D': return 1\n",
    "    else: return 0"
   ]
  },
  {
   "cell_type": "code",
   "execution_count": null,
   "id": "16ac5250",
   "metadata": {},
   "outputs": [],
   "source": [
    "df['Numeric grade']=df['538 Grade'].apply(grade_numeric)"
   ]
  },
  {
   "cell_type": "code",
   "execution_count": null,
   "id": "01bc2760",
   "metadata": {},
   "outputs": [],
   "source": [
    "df['Numeric grade'].value_counts()"
   ]
  },
  {
   "cell_type": "markdown",
   "id": "deaaf65c",
   "metadata": {},
   "source": [
    "##### Boxplots"
   ]
  },
  {
   "cell_type": "code",
   "execution_count": null,
   "id": "efc0baaa",
   "metadata": {},
   "outputs": [],
   "source": [
    "def custom_boxplot(x,y,rot=90):\n",
    "    plt.figure(figsize=(12,4))\n",
    "    plt.title(\"Boxplot of \\\"{}\\\" by \\\"{}\\\"\".format(y,x),fontsize=17)\n",
    "    sns.boxplot(x=x,y=y,data=df)\n",
    "    plt.xticks(rotation=rot,fontsize=12)\n",
    "    plt.yticks(fontsize=13)\n",
    "    plt.xlabel(x,fontsize=15)\n",
    "    plt.ylabel(y+'\\n',fontsize=15)\n",
    "    plt.show()"
   ]
  },
  {
   "cell_type": "code",
   "execution_count": null,
   "id": "94f83e6f",
   "metadata": {},
   "outputs": [],
   "source": [
    "custom_boxplot(x='Methodology',y='Simple Average Error')"
   ]
  },
  {
   "cell_type": "code",
   "execution_count": null,
   "id": "10df79a6",
   "metadata": {},
   "outputs": [],
   "source": [
    "custom_boxplot(x='Methodology',y='Predictive Plus-Minus')"
   ]
  },
  {
   "cell_type": "code",
   "execution_count": null,
   "id": "4aa34582",
   "metadata": {},
   "outputs": [],
   "source": [
    "custom_boxplot(x='Partisan Bias',y='Races Called Correctly',rot=0)"
   ]
  },
  {
   "cell_type": "code",
   "execution_count": null,
   "id": "672d8f4d",
   "metadata": {},
   "outputs": [],
   "source": [
    "custom_boxplot(x='Partisan Bias',y='Advanced Plus-Minus')"
   ]
  },
  {
   "cell_type": "code",
   "execution_count": null,
   "id": "b71b3fee",
   "metadata": {},
   "outputs": [],
   "source": [
    "custom_boxplot(x='NCPP / AAPOR / Roper',y='Races Called Correctly',rot=0)"
   ]
  },
  {
   "cell_type": "code",
   "execution_count": null,
   "id": "45789635",
   "metadata": {},
   "outputs": [],
   "source": [
    "custom_boxplot(x='NCPP / AAPOR / Roper',y='Advanced Plus-Minus',rot=0)"
   ]
  },
  {
   "cell_type": "markdown",
   "id": "4a276430",
   "metadata": {},
   "source": [
    "##### Scatter and regression plots"
   ]
  },
  {
   "cell_type": "code",
   "execution_count": null,
   "id": "7f2469e1",
   "metadata": {},
   "outputs": [],
   "source": [
    "def custom_scatter(x,y,data=df,pos=(0,0),regeqn=True):\n",
    "    \"\"\"\n",
    "    Plots customized scatter plots with regression fit using Seaborn\n",
    "    \"\"\"    \n",
    "    sns.lmplot(x=x,y=y,data=data,height=4,aspect=1.5,\n",
    "       scatter_kws={'color':'yellow','edgecolor':'k','s':100},\n",
    "              line_kws={'linewidth':3,'color':'red','linestyle':'--'})\n",
    "    \n",
    "    plt.xticks(fontsize=15)\n",
    "    plt.yticks(fontsize=15)\n",
    "    plt.xlabel(x,fontsize=15)\n",
    "    plt.ylabel(y+'\\n',fontsize=15)\n",
    "    ax = plt.gca()\n",
    "    ax.set_title(\"Regression fit of \\\"{}\\\" vs. \\\"{}\\\"\".format(x,y),fontsize=15)\n",
    "    \n",
    "    if (regeqn):\n",
    "        slope, intercept, r_value, p_value, std_err = stats.linregress(df[x],df[y])\n",
    "        r_squared = r_value**2\n",
    "        eqn= \"$y$={0:.3f}$x$+{1:.3f},\\n$R^2$:{2:.3f}\".format(slope,intercept,r_squared)\n",
    "        plt.annotate(s=eqn,xy=pos,fontsize=13)"
   ]
  },
  {
   "cell_type": "code",
   "execution_count": null,
   "id": "e1396d9e",
   "metadata": {},
   "outputs": [],
   "source": [
    "custom_scatter(x='Races Called Correctly',\n",
    "               y='Predictive Plus-Minus',\n",
    "              pos=(0.05,-1.5))"
   ]
  },
  {
   "cell_type": "code",
   "execution_count": null,
   "id": "b325e4ab",
   "metadata": {},
   "outputs": [],
   "source": [
    "custom_scatter(x='Numeric grade',\n",
    "               y='Simple Average Error',\n",
    "              pos=(0,20))"
   ]
  },
  {
   "cell_type": "code",
   "execution_count": 1,
   "id": "373ac9e3",
   "metadata": {},
   "outputs": [
    {
     "ename": "NameError",
     "evalue": "name 'df' is not defined",
     "output_type": "error",
     "traceback": [
      "\u001b[0;31m---------------------------------------------------------------------------\u001b[0m",
      "\u001b[0;31mNameError\u001b[0m                                 Traceback (most recent call last)",
      "Cell \u001b[0;32mIn[1], line 1\u001b[0m\n\u001b[0;32m----> 1\u001b[0m df\u001b[38;5;241m.\u001b[39mcolumns\n",
      "\u001b[0;31mNameError\u001b[0m: name 'df' is not defined"
     ]
    }
   ],
   "source": [
    "df.columns"
   ]
  },
  {
   "cell_type": "code",
   "execution_count": null,
   "id": "828b6af3",
   "metadata": {},
   "outputs": [],
   "source": [
    "df_2 = df.dropna()\n",
    "filtered = df_2[df_2['# of Polls']>100]\n",
    "custom_scatter(x='# of Polls for Bias Analysis',\n",
    "              y='Partisan Bias Degree',\n",
    "              data=filtered,regeqn=False)"
   ]
  },
  {
   "cell_type": "code",
   "execution_count": null,
   "id": "51aeac32",
   "metadata": {},
   "outputs": [],
   "source": [
    "x = df_2['# of Polls for Bias Analysis']\n",
    "y = df_2['Partisan Bias Degree']\n",
    "            \n",
    "plt.scatter(x,y,color='yellow',edgecolors='k',s=100)\n",
    "\n",
    "def func(x, a, b, c):\n",
    "    return a * np.exp(-b *0.1*x) + c\n",
    "popt, pcov = curve_fit(func, x, y)\n",
    "y_fit = func(x,popt[0],popt[1],popt[2])\n",
    "plt.scatter(x,y_fit,color='red',alpha=0.5)\n",
    "plt.show()"
   ]
  },
  {
   "cell_type": "code",
   "execution_count": null,
   "id": "ad38188d",
   "metadata": {},
   "outputs": [],
   "source": [
    "plt.scatter(np.log10(np.abs(x)),np.log10(np.abs(y)),color='yellow',edgecolors='k',s=100)"
   ]
  },
  {
   "cell_type": "code",
   "execution_count": null,
   "id": "ea2ee3cc",
   "metadata": {},
   "outputs": [],
   "source": [
    "popt"
   ]
  },
  {
   "cell_type": "code",
   "execution_count": null,
   "id": "1ee7eb35",
   "metadata": {},
   "outputs": [],
   "source": [
    "filtered = df[df['# of Polls']>20]\n",
    "plt.title(\"Histogram of the \\'# of Polls\\'\",fontsize=16)\n",
    "plt.hist(filtered['# of Polls'],color='orange',edgecolor='k')\n",
    "plt.xticks(fontsize=14)\n",
    "plt.yticks(fontsize=14)\n",
    "plt.show()\n",
    "\n",
    "filtered =filtered[filtered['# of Polls']<400]\n",
    "custom_scatter(x='# of Polls',\n",
    "               y='Predictive Plus-Minus',\n",
    "               pos = (200,-1),\n",
    "               data=filtered)"
   ]
  },
  {
   "cell_type": "code",
   "execution_count": null,
   "id": "eca233c8",
   "metadata": {},
   "outputs": [],
   "source": [
    "df_scores = df[['Predictive Plus-Minus','Races Called Correctly',\n",
    "                'Simple Average Error','Advanced Plus-Minus',\n",
    "               'Numeric grade']]"
   ]
  },
  {
   "cell_type": "code",
   "execution_count": null,
   "id": "f5c95c60",
   "metadata": {},
   "outputs": [],
   "source": [
    "sns.pairplot(data=df_scores,\n",
    "             plot_kws={'color':'red','edgecolor':'k'},\n",
    "             diag_kws={'color':'blue','edgecolor':'k'})"
   ]
  },
  {
   "cell_type": "markdown",
   "id": "669ed847",
   "metadata": {},
   "source": [
    "##### Filtering And Sorting"
   ]
  },
  {
   "cell_type": "code",
   "execution_count": null,
   "id": "dfba37a9",
   "metadata": {},
   "outputs": [],
   "source": [
    "df_sorted = df[df['# of Polls']>50].sort_values(by=['Advanced Plus-Minus'])[:10]\n",
    "df_sorted[['Pollster','# of Polls','Advanced Plus-Minus','Partisan Bias','538 Grade']]"
   ]
  },
  {
   "cell_type": "code",
   "execution_count": 12,
   "id": "50c5a39a",
   "metadata": {},
   "outputs": [
    {
     "data": {
      "text/plain": [
       "0       0.700506\n",
       "1      -0.343495\n",
       "2       0.632896\n",
       "3      -0.526230\n",
       "4      -0.199840\n",
       "         ...    \n",
       "512    11.670131\n",
       "513     8.833333\n",
       "514     4.727778\n",
       "515    10.899998\n",
       "516   -27.666667\n",
       "Name: House Effect, Length: 517, dtype: float64"
      ]
     },
     "execution_count": 12,
     "metadata": {},
     "output_type": "execute_result"
    }
   ],
   "source": [
    "df['House Effect']"
   ]
  }
 ],
 "metadata": {
  "kernelspec": {
   "display_name": "Python 3 (ipykernel)",
   "language": "python",
   "name": "python3"
  },
  "language_info": {
   "codemirror_mode": {
    "name": "ipython",
    "version": 3
   },
   "file_extension": ".py",
   "mimetype": "text/x-python",
   "name": "python",
   "nbconvert_exporter": "python",
   "pygments_lexer": "ipython3",
   "version": "3.11.4"
  }
 },
 "nbformat": 4,
 "nbformat_minor": 5
}
